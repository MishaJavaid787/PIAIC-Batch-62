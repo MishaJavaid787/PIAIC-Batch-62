{
  "nbformat": 4,
  "nbformat_minor": 0,
  "metadata": {
    "colab": {
      "provenance": [],
      "authorship_tag": "ABX9TyMmr+w/dLVkQd8HH8u8NMYS",
      "include_colab_link": true
    },
    "kernelspec": {
      "name": "python3",
      "display_name": "Python 3"
    },
    "language_info": {
      "name": "python"
    }
  },
  "cells": [
    {
      "cell_type": "markdown",
      "metadata": {
        "id": "view-in-github",
        "colab_type": "text"
      },
      "source": [
        "<a href=\"https://colab.research.google.com/github/MishaJavaid787/PIAIC-Batch-62/blob/main/Assignment_No_5(Quarter_2).ipynb\" target=\"_parent\"><img src=\"https://colab.research.google.com/assets/colab-badge.svg\" alt=\"Open In Colab\"/></a>"
      ]
    },
    {
      "cell_type": "markdown",
      "source": [
        "Configuration of API"
      ],
      "metadata": {
        "id": "RY7Y3G53uFRB"
      }
    },
    {
      "cell_type": "code",
      "execution_count": null,
      "metadata": {
        "id": "CHlMSvveKmcs"
      },
      "outputs": [],
      "source": [
        "!pip install -U -q \"google-generativeai>=0.7.2\" #istalling python SDK"
      ]
    },
    {
      "cell_type": "code",
      "source": [
        "import google.generativeai as genai"
      ],
      "metadata": {
        "id": "oAwbqlj9exXI"
      },
      "execution_count": null,
      "outputs": []
    },
    {
      "cell_type": "markdown",
      "source": [
        "Setting Up API Key"
      ],
      "metadata": {
        "id": "3wdb8J-cuORj"
      }
    },
    {
      "cell_type": "code",
      "source": [
        "from google.colab import userdata\n",
        "GOOGLE_API_KEY = userdata.get('GOOGLE_API_KEY')\n",
        "genai.configure(api_key=GOOGLE_API_KEY)"
      ],
      "metadata": {
        "id": "VmcxbQd5M-gA"
      },
      "execution_count": null,
      "outputs": []
    },
    {
      "cell_type": "markdown",
      "source": [
        "Use Gemini 1.5 Flash as API model"
      ],
      "metadata": {
        "id": "XwrATIHXuS5P"
      }
    },
    {
      "cell_type": "code",
      "source": [
        "model = genai.GenerativeModel(\"gemini-1.5-flash\")"
      ],
      "metadata": {
        "id": "8pyjy1XGcF1S"
      },
      "execution_count": null,
      "outputs": []
    },
    {
      "cell_type": "markdown",
      "source": [
        "Uploading Self-Introduction Video from Google Drive"
      ],
      "metadata": {
        "id": "i1hVFE8puoUc"
      }
    },
    {
      "cell_type": "code",
      "source": [
        "!wget https://drive.google.com/uc?id=1Cg2Cl3FF2ANyBl0frRlcnkL2xH_1qW1W -O /content/Introduction.mp4 -q"
      ],
      "metadata": {
        "id": "GWY9Yu-uZuYN"
      },
      "execution_count": null,
      "outputs": []
    },
    {
      "cell_type": "markdown",
      "source": [
        "Video Processing"
      ],
      "metadata": {
        "id": "nvBEwKm1u4ZN"
      }
    },
    {
      "cell_type": "code",
      "source": [
        "import time\n",
        "from google import genai\n",
        "client = genai.Client(api_key=userdata.get(\"GOOGLE_API_KEY\"))\n",
        "Introduction_video = \"/content/Introduction.mp4\"\n",
        "\n",
        "def upload_video(video_file_name):\n",
        "  video_file = client.files.upload(path=video_file_name)\n",
        "  while video_file.state == \"PROCESSING\":\n",
        "      print('Waiting for video to be processed.')\n",
        "      time.sleep(10)\n",
        "      video_file = client.files.get(name=video_file.name or \"\")\n",
        "\n",
        "  if video_file.state == \"SUCCESS\":\n",
        "    pass\n",
        "  elif video_file.state == \"FAILED\":\n",
        "    raise ValueError(video_file.state)\n",
        "  print(f'Video processing complete: ' + (video_file.uri or \"\"))\n",
        "\n",
        "  return video_file\n"
      ],
      "metadata": {
        "id": "5wfIWhM9RsST"
      },
      "execution_count": null,
      "outputs": []
    },
    {
      "cell_type": "code",
      "source": [
        "Introduction_video = upload_video(\"Introduction.mp4\")"
      ],
      "metadata": {
        "colab": {
          "base_uri": "https://localhost:8080/"
        },
        "id": "SU06q8xMdnzo",
        "outputId": "9d491b00-01d3-4f31-d072-e050a8935b05"
      },
      "execution_count": null,
      "outputs": [
        {
          "output_type": "stream",
          "name": "stdout",
          "text": [
            "Waiting for video to be processed.\n",
            "Video processing complete: https://generativelanguage.googleapis.com/v1beta/files/c2czyab3g4h2\n"
          ]
        }
      ]
    },
    {
      "cell_type": "markdown",
      "source": [
        "Video Analysis"
      ],
      "metadata": {
        "id": "I9CsBkTZvPym"
      }
    },
    {
      "cell_type": "code",
      "source": [
        "from google.genai.types import Content, Part\n",
        "prompt = \"\"\"For each scene in this video,\n",
        "            generate captions that describe the scene along with any spoken text placed in quotation marks.\n",
        "            Place each caption into an object with the timecode of the caption in the video.\n",
        "         \"\"\"\n",
        "\n",
        "video = Introduction_video\n",
        "\n",
        "response = client.models.generate_content(\n",
        "    model= \"gemini-1.5-flash\",\n",
        "    contents=[\n",
        "        Content(\n",
        "            role=\"user\",\n",
        "            parts=[\n",
        "                Part.from_uri(\n",
        "                    file_uri=video.uri or \"\",\n",
        "                    mime_type=video.mime_type or \"\"),\n",
        "                ]),\n",
        "        prompt,\n",
        "    ]\n",
        ")\n",
        "\n",
        "\n",
        "from IPython.display import Markdown\n",
        "Markdown(response.text)"
      ],
      "metadata": {
        "colab": {
          "base_uri": "https://localhost:8080/",
          "height": 877
        },
        "id": "i1LSqTcvUu-N",
        "outputId": "bcb62f55-38fd-47b0-daa7-f3147fa35bed",
        "collapsed": true
      },
      "execution_count": null,
      "outputs": [
        {
          "output_type": "execute_result",
          "data": {
            "text/plain": [
              "<IPython.core.display.Markdown object>"
            ],
            "text/markdown": "Here are the captions for each scene in the provided video.  Note that due to the audio quality, some words might be slightly off.\n\n**0:00-0:04** A woman wearing a black hijab sits in front of a light beige wall.  Her hands are clasped together in front of her.\n\n**0:04-0:08** The woman unclasps her hands and begins speaking. “Hello, Assalam o Alaikum. It's my video. I am a civil servant. I am working as a Deputy Director in the urban development sector of the Government of Punjab.”\n\n**0:08-0:17** The woman gestures with her right hand as she speaks. “And let me tell you about my academic background. I did my Bachelor’s in Banking and Finance. Actually, it was a BBA honors from University of Punjab.”\n\n**0:17-0:30** She continues her story, gesturing with one hand. “And then I went to England on a scholarship which was awarded by King's Trust International, which is an organization of King Charles, and I did a one year leadership fellowship in University of Cambridge.”\n\n**0:30-0:44** The woman’s hands are mostly still as she speaks. “Then I came back and joined the banking sector of Pakistan. But after one year, I felt that no, my interest lies somewhere else. I was…and I joined…I always interested in public service and through…through my association with different NGOs I have been working. I was already working in public sector but…then I decided to pursue my professional career in that sector as well and I joined through a competitive exam.”\n\n**0:44-0:57**  The woman gestures with her hands as she speaks.  “During my job I felt that we are lagging behind in information technology and there is a need to upgrade our public service through emerging technologies and I have always been interested in numbers and tech. I’m a very tech-savvy person.”\n\n**0:57-1:02** The woman’s hands are mostly still. “I love to update myself about all the technological advancement in the world and that’s why I…when I joined urban development sector, I felt that there is a need to incorporate all the emerging, you know, AI-related techniques.”\n\n**1:02-1:15** The woman uses hand gestures as she talks. “And information technology…related things to upgrade our, you know, sewage and water supply system.”\n\n**1:15-1:29** She continues explaining her work. “And I have always been interested in numbers and tech…I’m a very tech-savvy person. I love to update myself about all the technological advancements in the world.”\n\n**1:29-1:43** The woman uses hand gestures to emphasize her points. “And that’s why I…when I joined urban development sector, I felt that there is a need to incorporate all the emerging…you know…AI related techniques.”\n\n**1:43-1:53** The woman touches her face and hair while speaking. “And information technology…related things to upgrade our…you know…”\n\n**1:53-2:02** The woman’s hands are mostly still as she speaks. “Sewerage and water supply system and… and I also associated with Punjab Information Technology Board projects and…”\n\n**2:02-2:10** The woman looks upwards while speaking. “When I see, when I, you know, all those IT experts always inspired me and my brother is also a software engineer, which is also…you know, is a source of inspiration to…”\n\n**2:10-2:29** The woman moves her hand gestures. “Pursue my…you know…studies in PIAIC. So, I hope through my time in PIAIC I will able to materialize my professional and all the personal dreams. Personal dreams as in you know, I love video games.”\n\n**2:29-2:44** The woman’s hands are mostly still.  “And if I get the knowledge of all the coding and this stuff, maybe I will able to create a video game in future as well. Who knows?”\n\n**2:44-2:59** The woman looks down and nods while speaking.  “Personal dreams as in you know, I love video games, and if I get the knowledge of all the coding and this stuff, maybe I will able to create a video game in the future as well. Who knows?”\n\n\nThis detailed breakdown provides a comprehensive caption for each scene, including the spoken words."
          },
          "metadata": {},
          "execution_count": 116
        }
      ]
    }
  ]
}