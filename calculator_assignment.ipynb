{
  "nbformat": 4,
  "nbformat_minor": 0,
  "metadata": {
    "colab": {
      "provenance": [],
      "include_colab_link": true
    },
    "kernelspec": {
      "name": "python3",
      "display_name": "Python 3"
    },
    "language_info": {
      "name": "python"
    }
  },
  "cells": [
    {
      "cell_type": "markdown",
      "metadata": {
        "id": "view-in-github",
        "colab_type": "text"
      },
      "source": [
        "<a href=\"https://colab.research.google.com/github/MishaJavaid787/PIAIC-Batch-62/blob/main/calculator_assignment.ipynb\" target=\"_parent\"><img src=\"https://colab.research.google.com/assets/colab-badge.svg\" alt=\"Open In Colab\"/></a>"
      ]
    },
    {
      "cell_type": "markdown",
      "source": [
        "Defining Functions for Basic Calculator Operations"
      ],
      "metadata": {
        "id": "JfCFKf6eGv-Z"
      }
    },
    {
      "cell_type": "code",
      "source": [
        "def Calculator (a,b,operator):\n",
        "  if operator == \"+\":\n",
        "    return a+b\n",
        "  elif operator == \"-\":\n",
        "    return a-b\n",
        "  elif operator == \"*\":\n",
        "    return a*b\n",
        "  elif operator == \"/\":\n",
        "    if b!=0:  # Check division by Zero\n",
        "      return a/b\n",
        "  else:\n",
        "    return \"Invalid entry.\""
      ],
      "metadata": {
        "id": "S9lQz6ChcSh_"
      },
      "execution_count": null,
      "outputs": []
    },
    {
      "cell_type": "markdown",
      "source": [
        "\n",
        "Getting input through user for numbers and operators"
      ],
      "metadata": {
        "id": "6OMdomxeHQxK"
      }
    },
    {
      "cell_type": "code",
      "source": [
        "a =int (input(\"enter first number: \"))\n",
        "b = int (input(\"enter second number: \"))\n",
        "operator = input(\"enter operator(+, -, *, /): \")"
      ],
      "metadata": {
        "id": "qAyMVJw4Jf20"
      },
      "execution_count": null,
      "outputs": []
    },
    {
      "cell_type": "markdown",
      "source": [
        "Calling Function with user input"
      ],
      "metadata": {
        "id": "POzQsKYJMWib"
      }
    },
    {
      "cell_type": "code",
      "source": [
        "result = Calculator (a,b,operator)\n",
        "print(f\" The result is: {result}\")"
      ],
      "metadata": {
        "id": "a3O-0yPpgsAP"
      },
      "execution_count": null,
      "outputs": []
    }
  ]
}