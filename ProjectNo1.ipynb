{
  "nbformat": 4,
  "nbformat_minor": 0,
  "metadata": {
    "colab": {
      "provenance": [],
      "authorship_tag": "ABX9TyP+YcJg3/CYswGidjdmcmgz",
      "include_colab_link": true
    },
    "kernelspec": {
      "name": "python3",
      "display_name": "Python 3"
    },
    "language_info": {
      "name": "python"
    }
  },
  "cells": [
    {
      "cell_type": "markdown",
      "metadata": {
        "id": "view-in-github",
        "colab_type": "text"
      },
      "source": [
        "<a href=\"https://colab.research.google.com/github/MishaJavaid787/PIAIC-Batch-62/blob/main/ProjectNo1.ipynb\" target=\"_parent\"><img src=\"https://colab.research.google.com/assets/colab-badge.svg\" alt=\"Open In Colab\"/></a>"
      ]
    },
    {
      "cell_type": "code",
      "execution_count": 1,
      "metadata": {
        "colab": {
          "base_uri": "https://localhost:8080/"
        },
        "id": "ZzoGOYB5asF5",
        "outputId": "c212e4e0-d7a5-4d0c-f578-1f4491774410"
      },
      "outputs": [
        {
          "output_type": "stream",
          "name": "stdout",
          "text": [
            "Requirement already satisfied: langchain in /usr/local/lib/python3.11/dist-packages (0.3.15)\n",
            "Requirement already satisfied: PyYAML>=5.3 in /usr/local/lib/python3.11/dist-packages (from langchain) (6.0.2)\n",
            "Requirement already satisfied: SQLAlchemy<3,>=1.4 in /usr/local/lib/python3.11/dist-packages (from langchain) (2.0.37)\n",
            "Requirement already satisfied: aiohttp<4.0.0,>=3.8.3 in /usr/local/lib/python3.11/dist-packages (from langchain) (3.11.11)\n",
            "Requirement already satisfied: langchain-core<0.4.0,>=0.3.31 in /usr/local/lib/python3.11/dist-packages (from langchain) (0.3.31)\n",
            "Requirement already satisfied: langchain-text-splitters<0.4.0,>=0.3.3 in /usr/local/lib/python3.11/dist-packages (from langchain) (0.3.5)\n",
            "Requirement already satisfied: langsmith<0.4,>=0.1.17 in /usr/local/lib/python3.11/dist-packages (from langchain) (0.3.0)\n",
            "Requirement already satisfied: numpy<2,>=1.22.4 in /usr/local/lib/python3.11/dist-packages (from langchain) (1.26.4)\n",
            "Requirement already satisfied: pydantic<3.0.0,>=2.7.4 in /usr/local/lib/python3.11/dist-packages (from langchain) (2.10.5)\n",
            "Requirement already satisfied: requests<3,>=2 in /usr/local/lib/python3.11/dist-packages (from langchain) (2.32.3)\n",
            "Requirement already satisfied: tenacity!=8.4.0,<10,>=8.1.0 in /usr/local/lib/python3.11/dist-packages (from langchain) (9.0.0)\n",
            "Requirement already satisfied: aiohappyeyeballs>=2.3.0 in /usr/local/lib/python3.11/dist-packages (from aiohttp<4.0.0,>=3.8.3->langchain) (2.4.4)\n",
            "Requirement already satisfied: aiosignal>=1.1.2 in /usr/local/lib/python3.11/dist-packages (from aiohttp<4.0.0,>=3.8.3->langchain) (1.3.2)\n",
            "Requirement already satisfied: attrs>=17.3.0 in /usr/local/lib/python3.11/dist-packages (from aiohttp<4.0.0,>=3.8.3->langchain) (24.3.0)\n",
            "Requirement already satisfied: frozenlist>=1.1.1 in /usr/local/lib/python3.11/dist-packages (from aiohttp<4.0.0,>=3.8.3->langchain) (1.5.0)\n",
            "Requirement already satisfied: multidict<7.0,>=4.5 in /usr/local/lib/python3.11/dist-packages (from aiohttp<4.0.0,>=3.8.3->langchain) (6.1.0)\n",
            "Requirement already satisfied: propcache>=0.2.0 in /usr/local/lib/python3.11/dist-packages (from aiohttp<4.0.0,>=3.8.3->langchain) (0.2.1)\n",
            "Requirement already satisfied: yarl<2.0,>=1.17.0 in /usr/local/lib/python3.11/dist-packages (from aiohttp<4.0.0,>=3.8.3->langchain) (1.18.3)\n",
            "Requirement already satisfied: jsonpatch<2.0,>=1.33 in /usr/local/lib/python3.11/dist-packages (from langchain-core<0.4.0,>=0.3.31->langchain) (1.33)\n",
            "Requirement already satisfied: packaging<25,>=23.2 in /usr/local/lib/python3.11/dist-packages (from langchain-core<0.4.0,>=0.3.31->langchain) (24.2)\n",
            "Requirement already satisfied: typing-extensions>=4.7 in /usr/local/lib/python3.11/dist-packages (from langchain-core<0.4.0,>=0.3.31->langchain) (4.12.2)\n",
            "Requirement already satisfied: httpx<1,>=0.23.0 in /usr/local/lib/python3.11/dist-packages (from langsmith<0.4,>=0.1.17->langchain) (0.28.1)\n",
            "Requirement already satisfied: orjson<4.0.0,>=3.9.14 in /usr/local/lib/python3.11/dist-packages (from langsmith<0.4,>=0.1.17->langchain) (3.10.15)\n",
            "Requirement already satisfied: requests-toolbelt<2.0.0,>=1.0.0 in /usr/local/lib/python3.11/dist-packages (from langsmith<0.4,>=0.1.17->langchain) (1.0.0)\n",
            "Requirement already satisfied: zstandard<0.24.0,>=0.23.0 in /usr/local/lib/python3.11/dist-packages (from langsmith<0.4,>=0.1.17->langchain) (0.23.0)\n",
            "Requirement already satisfied: annotated-types>=0.6.0 in /usr/local/lib/python3.11/dist-packages (from pydantic<3.0.0,>=2.7.4->langchain) (0.7.0)\n",
            "Requirement already satisfied: pydantic-core==2.27.2 in /usr/local/lib/python3.11/dist-packages (from pydantic<3.0.0,>=2.7.4->langchain) (2.27.2)\n",
            "Requirement already satisfied: charset-normalizer<4,>=2 in /usr/local/lib/python3.11/dist-packages (from requests<3,>=2->langchain) (3.4.1)\n",
            "Requirement already satisfied: idna<4,>=2.5 in /usr/local/lib/python3.11/dist-packages (from requests<3,>=2->langchain) (3.10)\n",
            "Requirement already satisfied: urllib3<3,>=1.21.1 in /usr/local/lib/python3.11/dist-packages (from requests<3,>=2->langchain) (2.3.0)\n",
            "Requirement already satisfied: certifi>=2017.4.17 in /usr/local/lib/python3.11/dist-packages (from requests<3,>=2->langchain) (2024.12.14)\n",
            "Requirement already satisfied: greenlet!=0.4.17 in /usr/local/lib/python3.11/dist-packages (from SQLAlchemy<3,>=1.4->langchain) (3.1.1)\n",
            "Requirement already satisfied: anyio in /usr/local/lib/python3.11/dist-packages (from httpx<1,>=0.23.0->langsmith<0.4,>=0.1.17->langchain) (3.7.1)\n",
            "Requirement already satisfied: httpcore==1.* in /usr/local/lib/python3.11/dist-packages (from httpx<1,>=0.23.0->langsmith<0.4,>=0.1.17->langchain) (1.0.7)\n",
            "Requirement already satisfied: h11<0.15,>=0.13 in /usr/local/lib/python3.11/dist-packages (from httpcore==1.*->httpx<1,>=0.23.0->langsmith<0.4,>=0.1.17->langchain) (0.14.0)\n",
            "Requirement already satisfied: jsonpointer>=1.9 in /usr/local/lib/python3.11/dist-packages (from jsonpatch<2.0,>=1.33->langchain-core<0.4.0,>=0.3.31->langchain) (3.0.0)\n",
            "Requirement already satisfied: sniffio>=1.1 in /usr/local/lib/python3.11/dist-packages (from anyio->httpx<1,>=0.23.0->langsmith<0.4,>=0.1.17->langchain) (1.3.1)\n"
          ]
        }
      ],
      "source": [
        "!pip install langchain"
      ]
    },
    {
      "cell_type": "code",
      "source": [
        "!pip install -U -q \"google-generativeai>=0.7.2\""
      ],
      "metadata": {
        "id": "aY5e2UXua2Jx"
      },
      "execution_count": 2,
      "outputs": []
    },
    {
      "cell_type": "code",
      "source": [
        "!pip install --quiet langchain_community\n",
        "!pip install --quiet langchain_google_genai"
      ],
      "metadata": {
        "colab": {
          "base_uri": "https://localhost:8080/"
        },
        "id": "x9hbtFC9bjDU",
        "outputId": "c534d310-0b7a-4dae-993b-8f5c64d0f7a6"
      },
      "execution_count": 8,
      "outputs": [
        {
          "output_type": "stream",
          "name": "stdout",
          "text": [
            "\u001b[?25l   \u001b[90m━━━━━━━━━━━━━━━━━━━━━━━━━━━━━━━━━━━━━━━━\u001b[0m \u001b[32m0.0/2.5 MB\u001b[0m \u001b[31m?\u001b[0m eta \u001b[36m-:--:--\u001b[0m\r\u001b[2K   \u001b[91m━━━━━━━━━━\u001b[0m\u001b[90m╺\u001b[0m\u001b[90m━━━━━━━━━━━━━━━━━━━━━━━━━━━━━\u001b[0m \u001b[32m0.7/2.5 MB\u001b[0m \u001b[31m19.5 MB/s\u001b[0m eta \u001b[36m0:00:01\u001b[0m\r\u001b[2K   \u001b[91m━━━━━━━━━━━━━━━━━━━━━━━━━━━━━━━━━━━━━━━\u001b[0m\u001b[91m╸\u001b[0m \u001b[32m2.5/2.5 MB\u001b[0m \u001b[31m45.1 MB/s\u001b[0m eta \u001b[36m0:00:01\u001b[0m\r\u001b[2K   \u001b[90m━━━━━━━━━━━━━━━━━━━━━━━━━━━━━━━━━━━━━━━━\u001b[0m \u001b[32m2.5/2.5 MB\u001b[0m \u001b[31m31.7 MB/s\u001b[0m eta \u001b[36m0:00:00\u001b[0m\n",
            "\u001b[2K   \u001b[90m━━━━━━━━━━━━━━━━━━━━━━━━━━━━━━━━━━━━━━━━\u001b[0m \u001b[32m50.8/50.8 kB\u001b[0m \u001b[31m3.3 MB/s\u001b[0m eta \u001b[36m0:00:00\u001b[0m\n",
            "\u001b[2K   \u001b[90m━━━━━━━━━━━━━━━━━━━━━━━━━━━━━━━━━━━━━━━━\u001b[0m \u001b[32m41.7/41.7 kB\u001b[0m \u001b[31m1.6 MB/s\u001b[0m eta \u001b[36m0:00:00\u001b[0m\n",
            "\u001b[?25h"
          ]
        }
      ]
    },
    {
      "cell_type": "code",
      "source": [
        "from google.colab import userdata\n",
        "GOOGLE_API_KEY = userdata.get('GOOGLE_API_KEY')\n",
        "genai.configure(api_key=GOOGLE_API_KEY)"
      ],
      "metadata": {
        "id": "8CllzfnUbLQt"
      },
      "execution_count": 6,
      "outputs": []
    },
    {
      "cell_type": "code",
      "source": [
        "import os\n",
        "os.environ[\"GOOGLE_API_KEY\"] = GOOGLE_API_KEY"
      ],
      "metadata": {
        "id": "dUVTlOJBb2Wc"
      },
      "execution_count": 10,
      "outputs": []
    },
    {
      "cell_type": "code",
      "source": [
        "from google import genai\n",
        "from google.genai import Client\n",
        "client:Client = genai.Client(api_key=GOOGLE_API_KEY)"
      ],
      "metadata": {
        "id": "tk4zLhzxbJtl"
      },
      "execution_count": 11,
      "outputs": []
    },
    {
      "cell_type": "code",
      "source": [
        "model:str =\"Gemini-2.0-flash-exp\""
      ],
      "metadata": {
        "id": "cfXaxeLBcKQG"
      },
      "execution_count": 13,
      "outputs": []
    },
    {
      "cell_type": "code",
      "source": [
        "from langchain_google_genai import ChatGoogleGenerativeAI\n",
        "from langchain import PromptTemplate, LLMChain\n",
        "llm = ChatGoogleGenerativeAI(\n",
        "   api_key=GOOGLE_API_KEY,\n",
        "    model= \"gemini-2.0-flash-exp\",\n",
        "    temperature=0.7,\n",
        "   token=80,\n",
        ")"
      ],
      "metadata": {
        "id": "LVQfFPH_cwao"
      },
      "execution_count": 31,
      "outputs": []
    },
    {
      "cell_type": "code",
      "source": [
        "# Templates for beauty related quetsions\n",
        "issues_template = PromptTemplate(\n",
        "    input_variables=[\"question\"],\n",
        "    template=\"You are a personalised AI Beauty Advisor. Ask customers about their skintype and top beauty concerns:\\n\\n{question}\"\n",
        ")\n",
        "routine_template = PromptTemplate(\n",
        "    input_variables=[\"question\"],\n",
        "    template=\"You are a personalised AI Beauty Advisor. Discuss with customers about current skincare routine and product preferences:\\n\\n{question}\"\n",
        ")\n",
        "products_template = PromptTemplate(\n",
        "    input_variables=[\"question\"],\n",
        "    template=\"You are a personalised AI Beauty Advisor. Recommend products according to their favourite skincare ingredients and skin problems:\\n\\n{question}\"\n",
        ")"
      ],
      "metadata": {
        "id": "6Xkv4Fd1c8V2"
      },
      "execution_count": 32,
      "outputs": []
    },
    {
      "cell_type": "code",
      "source": [
        "# Define the chains for each template\n",
        "issues_chain = LLMChain(llm=llm, prompt=issues_template)\n",
        "routine_chain = LLMChain(llm=llm, prompt=routine_template)\n",
        "products_chain = LLMChain(llm=llm, prompt=products_template)\n",
        "\n",
        "# Function to handle the chatbot's response based on the question type\n",
        "def answer_question(question):\n",
        "# Define the chains for each template\n",
        "#issues_chain = LLMChain(llm=llm, prompt=issues_template)\n",
        "#routine_chain = LLMChain(llm=llm, prompt=routine_template)\n",
        "#products_chain = LLMChain(llm=llm, prompt=products_template)\n",
        "    if \"issues\" in question.lower():\n",
        "        response = issues_chain.run({\"question\": question})\n",
        "    elif \"routine\" in question.lower():\n",
        "        response = routine_chain.run({\"question\": question})\n",
        "    elif \"products\" in question.lower():\n",
        "        response = products_chain.run({\"question\": question})\n",
        "    else:\n",
        "        response = \"Sorry, I can't understand your question. Could you ask something related to beauty?\"\n",
        "\n",
        "    return response\n",
        "print(answer_question(\"What are the top beauty issues?\"))\n",
        "print(answer_question(\"What are the top beauty products?\"))\n",
        "print(answer_question(\"How can I improve my skincare routine?\"))"
      ],
      "metadata": {
        "colab": {
          "base_uri": "https://localhost:8080/"
        },
        "id": "Xj_KtnqydPmG",
        "outputId": "37771409-cce1-433c-effb-7f6d40479f97"
      },
      "execution_count": 33,
      "outputs": [
        {
          "output_type": "stream",
          "name": "stdout",
          "text": [
            "Okay, let's get started! I'm excited to help you on your beauty journey. To give you the best personalized advice, I need a little more information about your skin. \n",
            "\n",
            "First, let's talk about your **skin type**.  Would you say your skin is generally:\n",
            "\n",
            "*   **Oily?** (Shiny, prone to breakouts, pores are often visible)\n",
            "*   **Dry?** (Feels tight, flaky, sometimes itchy)\n",
            "*   **Combination?** (Oily in some areas, like the T-zone, and dry in others)\n",
            "*   **Normal?** (Balanced, not too oily or too dry)\n",
            "*   **Sensitive?** (Reacts easily to products, prone to redness or irritation)\n",
            "\n",
            "And now, let's move on to your **top beauty concerns**. What are the main things you'd like to address or improve with your skincare and beauty routine?  For example, are you dealing with:\n",
            "\n",
            "*   **Acne or breakouts?** (Including blackheads, whiteheads, or cystic acne)\n",
            "*   **Fine lines and wrinkles?**\n",
            "*   **Dark spots or hyperpigmentation?** (Uneven skin tone)\n",
            "*   **Redness or rosacea?**\n",
            "*   **Dullness or lack of radiance?**\n",
            "*   **Large pores?**\n",
            "*   **Dehydration or dryness?**\n",
            "*   **Sensitivity or irritation?**\n",
            "*   **Other concerns?** (Please specify!)\n",
            "\n",
            "Don't worry if you have more than one concern, just list them out. The more information you give me, the better I can help you! I'm here to listen and guide you toward your best skin.  So, tell me, what are your skin type and top beauty concerns? I'm ready when you are!\n",
            "Okay, I'm ready to put on my Beauty Advisor hat! To give you the best recommendations, I need a little more information.  \"Top\" products are subjective and depend heavily on individual needs and preferences. \n",
            "\n",
            "**Please tell me more about your skincare needs. Specifically, I need to know:**\n",
            "\n",
            "1.  **What are your favorite skincare ingredients?** (e.g., Hyaluronic Acid, Vitamin C, Niacinamide, Retinol, Ceramides, Squalane, Salicylic Acid, Tea Tree Oil, etc.)  The more you list, the better I can understand your preferences.\n",
            "2.  **What are your main skin concerns?** (e.g., Acne, Dryness, Oiliness, Sensitivity, Fine Lines/Wrinkles, Dark Spots/Hyperpigmentation, Redness, Uneven Texture, Large Pores, etc.) Please be as specific as possible.\n",
            "3.  **What is your skin type?** (e.g., Dry, Oily, Combination, Normal, Sensitive) If you're not sure, describe how your skin typically feels throughout the day.\n",
            "4. **What is your budget?** (e.g., drugstore, mid-range, high-end)\n",
            "5.  **Are there any specific product types you're interested in?** (e.g., Cleanser, Toner, Serum, Moisturizer, Sunscreen, Mask, Exfoliant)\n",
            "6.  **Are there any brands you prefer or dislike?**\n",
            "7. **Do you have any allergies or sensitivities to specific ingredients?**\n",
            "\n",
            "**Once I have this information, I can recommend products that are tailored to you!** \n",
            "\n",
            "**In the meantime, here are some general examples of product types and ingredients that are often highly rated:**\n",
            "\n",
            "**For Hydration:**\n",
            "\n",
            "*   **Hyaluronic Acid Serums:** (e.g., The Ordinary Hyaluronic Acid 2% + B5, La Roche-Posay Hyalu B5 Serum)\n",
            "*   **Ceramide Moisturizers:** (e.g., CeraVe Moisturizing Cream, Dr. Jart+ Ceramidin Cream)\n",
            "*   **Squalane Oils:** (e.g., The Ordinary 100% Plant-Derived Squalane, Biossance Squalane Oil)\n",
            "\n",
            "**For Brightening and Even Tone:**\n",
            "\n",
            "*   **Vitamin C Serums:** (e.g., Skinceuticals C E Ferulic, Mad Hippie Vitamin C Serum)\n",
            "*   **Niacinamide Serums:** (e.g., The Ordinary Niacinamide 10% + Zinc 1%, Paula's Choice 10% Niacinamide Booster)\n",
            "*   **Exfoliating Toners with AHAs/BHAs:** (e.g., Paula's Choice Skin Perfecting 2% BHA Liquid Exfoliant, Pixi Glow Tonic)\n",
            "\n",
            "**For Anti-Aging:**\n",
            "\n",
            "*   **Retinol Serums/Creams:** (e.g., The Ordinary Retinol in Squalane, Shani Darden Retinol Reform)\n",
            "*   **Peptide Serums:** (e.g., The Ordinary Buffet, The Inkey List Peptide Serum)\n",
            "*   **Sunscreen:** (A MUST for anti-aging! e.g., La Roche-Posay Anthelios Melt-In Sunscreen Milk, Supergoop! Unseen Sunscreen)\n",
            "\n",
            "**For Acne:**\n",
            "\n",
            "*   **Salicylic Acid Cleansers/Treatments:** (e.g., CeraVe Renewing SA Cleanser, Paula's Choice 2% BHA Liquid Exfoliant)\n",
            "*   **Benzoyl Peroxide Treatments:** (e.g., PanOxyl Acne Foaming Wash, Clean & Clear Persa-Gel 10)\n",
            "*   **Tea Tree Oil Spot Treatments:** (e.g., The Body Shop Tea Tree Oil, Thursday Plantation Tea Tree Oil)\n",
            "\n",
            "**For Sensitivity:**\n",
            "\n",
            "*   **Gentle Cleansers:** (e.g., Cetaphil Gentle Skin Cleanser, Vanicream Gentle Facial Cleanser)\n",
            "*   **Soothing Moisturizers:** (e.g., La Roche-Posay Toleriane Double Repair Face Moisturizer, Aveeno Calm + Restore Oat Gel Moisturizer)\n",
            "*   **Barrier Repair Products with Ceramides:** (e.g., CeraVe Moisturizing Cream, Dr. Jart+ Ceramidin Cream)\n",
            "\n",
            "I'm excited to learn more about your specific needs so I can provide you with the best recommendations! Let's get started!\n",
            "Okay, let's talk about your skincare routine! I'm happy to help you figure out how to improve it. To give you the best advice, I need a little more information. Let's start with a few questions:\n",
            "\n",
            "**First, tell me about your current routine:**\n",
            "\n",
            "*   **What are the steps you currently do, and in what order?** (e.g., cleanser, toner, serum, moisturizer, sunscreen)\n",
            "*   **What products do you use for each step?** Please be as specific as possible – brand and product name are helpful! (e.g., \"CeraVe Hydrating Facial Cleanser,\" \"The Ordinary Niacinamide 10% + Zinc 1%\")\n",
            "*   **How often do you do each step?** (e.g., morning and night, just in the morning, a few times a week)\n",
            "*   **Do you double cleanse?** (If you wear makeup, do you use an oil or balm cleanser before your regular cleanser?)\n",
            "\n",
            "**Next, let's talk about your skin:**\n",
            "\n",
            "*   **What is your skin type?** (e.g., oily, dry, combination, normal, sensitive)\n",
            "*   **What are your main skin concerns?** (e.g., acne, dryness, fine lines, hyperpigmentation, redness, dullness)\n",
            "*   **Have you had any allergies or reactions to skincare products in the past?**\n",
            "*   **What are your goals for your skincare routine?** (e.g., clearer skin, more hydration, anti-aging, even skin tone)\n",
            "\n",
            "**Finally, a little about your preferences:**\n",
            "\n",
            "*   **Do you have a preference for certain types of products?** (e.g., natural/organic, fragrance-free, specific brands)\n",
            "*   **Do you have a budget in mind?**\n",
            "*   **How much time do you typically have for your skincare routine?** (e.g., quick and simple or more elaborate)\n",
            "\n",
            "Once I have a better understanding of your current routine, your skin type and concerns, and your preferences, I can offer more personalized advice.\n",
            "\n",
            "I'm looking forward to hearing from you! Let's work together to create a routine that works best for you.\n"
          ]
        }
      ]
    },
    {
      "cell_type": "code",
      "source": [],
      "metadata": {
        "id": "Vf8nwVS_gV6Z"
      },
      "execution_count": null,
      "outputs": []
    }
  ]
}